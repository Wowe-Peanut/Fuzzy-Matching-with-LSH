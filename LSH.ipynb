{
 "cells": [
  {
   "cell_type": "code",
   "execution_count": 2,
   "id": "5da9984a",
   "metadata": {},
   "outputs": [],
   "source": [
    "import random\n",
    "import numpy as np\n",
    "from fuzzywuzzy import fuzz\n",
    "import time"
   ]
  },
  {
   "cell_type": "code",
   "execution_count": 3,
   "id": "060ff2dc",
   "metadata": {},
   "outputs": [],
   "source": [
    "from random import shuffle\n",
    "\n",
    "class Forest:\n",
    "    def BuildMinHash(self, vocabSize):\n",
    "        hashes = []\n",
    "        for _ in range(self.nbits):\n",
    "            hashList = [i for i in range(1, vocabSize+1)]\n",
    "            random.shuffle(hashList)\n",
    "            hashes.append(hashList)\n",
    "        return hashes\n",
    "    \n",
    "    def Shingle(self, text, k):\n",
    "        return set([text[i:i+k] for i in range(len(text)-k+1)])\n",
    "\n",
    "    # Generates a one-hot binary signature of a given set of shingles\n",
    "    def GenSparseSig(self, shingledWord):\n",
    "        sig = [0]*len(self.vocab)\n",
    "        for shingle in shingledWord:\n",
    "            try:\n",
    "                sig[self.shingleVocabIndex[shingle]] = 1\n",
    "            except KeyError:\n",
    "                continue\n",
    "                \n",
    "        return sig\n",
    "    \n",
    "    # MinHash a vector using the pre-computed minhash functions\n",
    "    def MinHash(self, vector):\n",
    "        signature = []\n",
    "        for func in self.minHashFunctions:\n",
    "            for i in range(1, len(self.vocab)+1):\n",
    "                #Funcs used as random, non-repeating, index ordering instead of checking index one by one\n",
    "                idx = func[i-1]-1\n",
    "                \n",
    "                # Find first index in each hash function that returns 1  \n",
    "                if vector[idx] == 1:\n",
    "                    signature.append(idx)\n",
    "                    break\n",
    "        return signature \n",
    "                    \n",
    "    def BandSignature(self, signature):\n",
    "        assert len(signature) % self.b == 0\n",
    "        \n",
    "        bandLength = len(signature)//self.b\n",
    "        bands = []\n",
    "        for i in range(0, len(signature), bandLength):\n",
    "            bands.append(signature[i:i+bandLength])\n",
    "\n",
    "        return bands\n",
    "    \n",
    "    def WordToSignature(self, word):\n",
    "        wordShingles = self.Shingle(word, self.shingleSize)\n",
    "        oneHotSig = self.GenSparseSig(wordShingles)\n",
    "        return self.MinHash(oneHotSig)\n",
    "    \n",
    "    def GetSimilarWords(self, word):\n",
    "        signature = self.WordToSignature(word)\n",
    "        bands = self.BandSignature(signature)\n",
    "        candidateWords = set()\n",
    "\n",
    "        for band in bands:\n",
    "            bucketKey = \",\".join([str(num) for num in band])\n",
    "            try:\n",
    "                candidateWords = candidateWords.union(forest.buckets[bucketKey])\n",
    "            except KeyError:\n",
    "                continue\n",
    "        \n",
    "        return candidateWords\n",
    "        \n",
    "    \n",
    "    def BuildForest(self):\n",
    "\n",
    "        print(\"Shingling Words\")\n",
    "        # Shingle starting words and create vocab set\n",
    "        wordShingleSets = []\n",
    "        for word in self.wordList:\n",
    "            wordShingles = self.Shingle(word, self.shingleSize)\n",
    "            \n",
    "            self.vocab = self.vocab.union(wordShingles)\n",
    "            wordShingleSets.append(wordShingles)\n",
    "        \n",
    "        #Creating an hash of the location of each shingle in vocab will speedup hashing time\n",
    "        self.shingleVocabIndex = {}\n",
    "        self.vocab = list(self.vocab)\n",
    "        for i, shingle in enumerate(self.vocab):\n",
    "            self.shingleVocabIndex[shingle] = i\n",
    "        \n",
    "        # Generate and save hashfunction to later add new words to forest\n",
    "        self.minHashFunctions = self.BuildMinHash(len(self.vocab))\n",
    "        self.wordSignatures = {}\n",
    "\n",
    "        print(\"Hashing Words\")\n",
    "        # Create a signature for each word using min-hash\n",
    "        for word, wordShingles in zip(wordList, wordShingleSets):\n",
    "            oneHotSig = self.GenSparseSig(wordShingles)\n",
    "            denseSig = self.MinHash(oneHotSig)\n",
    "            self.wordSignatures[word] = denseSig\n",
    "\n",
    "        \n",
    "        print(\"Banding Words\")\n",
    "        # Band words together into buckets (LSH)\n",
    "        self.buckets = {}\n",
    "        for word, signature in self.wordSignatures.items():   \n",
    "            for band in self.BandSignature(signature):\n",
    "                bucketKey = \",\".join([str(num) for num in band])\n",
    "\n",
    "                if bucketKey in self.buckets:\n",
    "                    self.buckets[bucketKey].add(word)\n",
    "                else:\n",
    "                    self.buckets[bucketKey] = set([word])\n",
    "\n",
    "    def __init__(self, words, shingleSize=2, nbits=20, b=5):\n",
    "        self.wordList = words\n",
    "        self.shingleSize = shingleSize\n",
    "        self.nbits = nbits\n",
    "        self.b = b\n",
    "        self.vocab = set()\n",
    "        \n",
    "        self.BuildForest()"
   ]
  },
  {
   "cell_type": "code",
   "execution_count": 11,
   "id": "3cc9cba8",
   "metadata": {},
   "outputs": [
    {
     "name": "stdout",
     "output_type": "stream",
     "text": [
      "Reading Words\n"
     ]
    }
   ],
   "source": [
    "print(\"Reading Words\")\n",
    "with open(\"Words.txt\", 'r') as raw:\n",
    "    wordList = [word.strip() for word in raw if len(word.strip()) > 5]"
   ]
  },
  {
   "cell_type": "code",
   "execution_count": null,
   "id": "4bfa5816",
   "metadata": {},
   "outputs": [],
   "source": []
  },
  {
   "cell_type": "code",
   "execution_count": null,
   "id": "c1fce615",
   "metadata": {},
   "outputs": [],
   "source": []
  },
  {
   "cell_type": "code",
   "execution_count": 17,
   "id": "197a2ba4",
   "metadata": {},
   "outputs": [],
   "source": [
    "def SaltText(text, saltCharacters):\n",
    "    newText = text\n",
    "    alphabet = \"0 1 2 3 4 5 6 7 8 9 , . | ] [ - _ = + / ! @ # $ % ^ & * ) (\".split(' ')\n",
    "    \n",
    "    for _ in range(saltCharacters):\n",
    "        randomI = random.randint(0, len(newText))\n",
    "        newText = newText[:randomI] + random.choice(alphabet) + newText[randomI:]\n",
    "         \n",
    "    return newText"
   ]
  },
  {
   "cell_type": "code",
   "execution_count": null,
   "id": "3213caf4",
   "metadata": {},
   "outputs": [],
   "source": []
  },
  {
   "cell_type": "code",
   "execution_count": 18,
   "id": "a8ad404c",
   "metadata": {},
   "outputs": [],
   "source": [
    "saltedWords = [SaltText(word, len(word)//3) for word in wordList]\n",
    "shuffledSaltedWords = saltedWords[:]\n",
    "random.shuffle(shuffledSaltedWords)"
   ]
  },
  {
   "cell_type": "code",
   "execution_count": 143,
   "id": "90fdfd02",
   "metadata": {
    "scrolled": true
   },
   "outputs": [
    {
     "name": "stdout",
     "output_type": "stream",
     "text": [
      "Runtime: 472.75535225868225\n",
      "Accuracy: 9862/9974\n"
     ]
    }
   ],
   "source": [
    "#Naive Method\n",
    "correctMatches = 0\n",
    "\n",
    "# Compares each word in word-list to each word in salted-word-list to find best match\n",
    "# O(n^2)\n",
    "start_time = time.time()\n",
    "for word, saltedWord in zip(wordList, saltedWords):\n",
    "    #print(word)\n",
    "    bestMatch = \"\"\n",
    "    bestScore = 0\n",
    "\n",
    "    for saltWord in shuffledSaltedWords:\n",
    "        score = fuzz.ratio(word, saltWord)\n",
    "        if score > bestScore:\n",
    "            bestScore = score\n",
    "            bestMatch = saltWord\n",
    "    \n",
    "    if bestMatch == saltedWord:\n",
    "        correctMatches += 1\n",
    "        \n",
    "print(\"Runtime:\", time.time() - start_time)\n",
    "print(f\"Accuracy: {correctMatches}/{len(wordList)}\")"
   ]
  },
  {
   "cell_type": "code",
   "execution_count": 21,
   "id": "dcd4a059",
   "metadata": {},
   "outputs": [
    {
     "name": "stdout",
     "output_type": "stream",
     "text": [
      "Shingling Words\n",
      "Hashing Words\n",
      "Banding Words\n",
      "Time to Build Forest: 1.8464140892028809\n",
      "Runtime: 11.210526704788208\n",
      "Accuracy: 6387/6394\n"
     ]
    }
   ],
   "source": [
    "#Using LSH\n",
    "incorrectMatches = []\n",
    "correctMatches = []\n",
    "start_time = time.time()\n",
    "\n",
    "#Build Forest\n",
    "forest = Forest(wordList, shingleSize=2, nbits=20, b=10)\n",
    "print(\"Time to Build Forest:\", time.time() - start_time)\n",
    "\n",
    "\n",
    "#Only compare words the same buckets\n",
    "for word, saltedWord in zip(wordList, saltedWords):\n",
    "    bestMatch = \"\"\n",
    "    bestScore = 0\n",
    "    \n",
    "    for candidateWord in forest.GetSimilarWords(saltedWord):\n",
    "        score = fuzz.ratio(saltedWord, candidateWord)\n",
    "        \n",
    "        if score > bestScore:\n",
    "            bestScore = score\n",
    "            bestMatch = candidateWord\n",
    "    \n",
    "    if bestMatch == word:\n",
    "        correctMatches.append((word, saltedWord, bestMatch))\n",
    "    else:\n",
    "        incorrectMatches.append((word, saltedWord, bestMatch))\n",
    "        \n",
    "        \n",
    "\n",
    "\n",
    "\n",
    "\n",
    "print(\"Runtime:\", time.time() - start_time)\n",
    "print(f\"Accuracy: {len(correctMatches)}/{len(wordList)}\")"
   ]
  },
  {
   "cell_type": "code",
   "execution_count": 23,
   "id": "f7100a00",
   "metadata": {},
   "outputs": [
    {
     "data": {
      "text/plain": [
       "[('libraries', 'l=ib^r[aries', 'salaries'),\n",
       " ('mountains', 'moun7ta$i[ns', 'mounting'),\n",
       " ('police', 'p=ol]ice', 'voices'),\n",
       " ('polish', 'p+o4lish', 'publish'),\n",
       " ('spears', 's4pear@s', 'speaks'),\n",
       " ('update', 'up/d*ate', 'donate'),\n",
       " ('urgent', 'urg%e-nt', 'current')]"
      ]
     },
     "execution_count": 23,
     "metadata": {},
     "output_type": "execute_result"
    }
   ],
   "source": [
    "incorrectMatches"
   ]
  },
  {
   "cell_type": "code",
   "execution_count": null,
   "id": "5f749ae5",
   "metadata": {},
   "outputs": [],
   "source": []
  }
 ],
 "metadata": {
  "kernelspec": {
   "display_name": "Python 3 (ipykernel)",
   "language": "python",
   "name": "python3"
  },
  "language_info": {
   "codemirror_mode": {
    "name": "ipython",
    "version": 3
   },
   "file_extension": ".py",
   "mimetype": "text/x-python",
   "name": "python",
   "nbconvert_exporter": "python",
   "pygments_lexer": "ipython3",
   "version": "3.10.9"
  }
 },
 "nbformat": 4,
 "nbformat_minor": 5
}
